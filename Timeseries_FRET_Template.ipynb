{
 "cells": [
  {
   "cell_type": "code",
   "execution_count": null,
   "metadata": {},
   "outputs": [],
   "source": [
    "from skimage import (\n",
    "    segmentation,\n",
    "    filters,\n",
    "    img_as_ubyte,\n",
    "    img_as_float,\n",
    "    img_as_uint,\n",
    "    io,\n",
    "    morphology,\n",
    "    measure,\n",
    ")\n",
    "from cell_counting_analysis import cell_counting_analysis as cca\n",
    "from cell_counting_analysis import seg_and_bin, timeseries\n",
    "import trackpy\n",
    "import pandas as pd\n",
    "import numpy as np\n",
    "import seaborn as sns\n",
    "from matplotlib import pyplot as plt\n",
    "from scipy.optimize import curve_fit\n",
    "\n",
    "%load_ext autoreload\n",
    "%autoreload 2"
   ]
  },
  {
   "cell_type": "markdown",
   "metadata": {},
   "source": [
    "### process a1 sample"
   ]
  },
  {
   "cell_type": "code",
   "execution_count": null,
   "metadata": {},
   "outputs": [],
   "source": [
    "a1_sample_name = \"a1g3\""
   ]
  },
  {
   "cell_type": "code",
   "execution_count": null,
   "metadata": {},
   "outputs": [],
   "source": [
    "a1_sample_C0 = img_as_float(\n",
    "    io.imread(f\"../Average_Proj_Stack/{a1_sample_name}_C0.tiff\")\n",
    ")\n",
    "a1_sample_C1 = img_as_float(\n",
    "    io.imread(f\"../Average_Proj_Stack/{a1_sample_name}_C1.tiff\")\n",
    ")"
   ]
  },
  {
   "cell_type": "code",
   "execution_count": null,
   "metadata": {},
   "outputs": [],
   "source": [
    "a1_sample_C0_lab = [\n",
    "    seg_and_bin.watershed_binary_img_to_labelled_img(\n",
    "        seg_and_bin.gaussian_threshold_remove_small_objects_and_holes(\n",
    "            a1_sample_C0[z, :, :],\n",
    "            filters.threshold_li,\n",
    "            gaussian_sigma=2,\n",
    "            tolerance=0.1,\n",
    "        ),\n",
    "        gaussian_sigma=2,\n",
    "    )\n",
    "    for z in range(a1_sample_C0.shape[0])\n",
    "]"
   ]
  },
  {
   "cell_type": "code",
   "execution_count": null,
   "metadata": {},
   "outputs": [],
   "source": [
    "a1_feature_df = timeseries.stack_label_images_to_tidy_df(\n",
    "    a1_sample_C0_lab, a1_sample_C1, a1_sample_C0\n",
    ")"
   ]
  },
  {
   "cell_type": "code",
   "execution_count": null,
   "metadata": {},
   "outputs": [],
   "source": [
    "a1_linked_df = trackpy.link_df(a1_feature_df, 10)"
   ]
  },
  {
   "cell_type": "code",
   "execution_count": null,
   "metadata": {},
   "outputs": [],
   "source": [
    "a1_filt_df = timeseries.keep_particles_through_stack(a1_linked_df)"
   ]
  },
  {
   "cell_type": "code",
   "execution_count": null,
   "metadata": {},
   "outputs": [],
   "source": [
    "def model_func(f, a, k, b):\n",
    "    return a * np.exp(-k * f) + b"
   ]
  },
  {
   "cell_type": "code",
   "execution_count": null,
   "metadata": {},
   "outputs": [],
   "source": [
    "a1_filt_df = pd.merge(\n",
    "    a1_filt_df,\n",
    "    (\n",
    "        a1_filt_df.query(\"frame > 0 & frame < 5 | frame > 25\")\n",
    "        .groupby(\"particle\")\n",
    "        .apply(\n",
    "            lambda x: curve_fit(\n",
    "                model_func, x[\"frame\"], x[\"mean_intensity_num_denom\"], maxfev=10000\n",
    "            )[0]\n",
    "        )\n",
    "    ).reset_index(name=\"model_params\"),\n",
    "    on=\"particle\",\n",
    ")"
   ]
  },
  {
   "cell_type": "code",
   "execution_count": null,
   "metadata": {},
   "outputs": [],
   "source": [
    "a1_filt_df[\"model\"] = a1_filt_df.apply(\n",
    "    lambda x: model_func(\n",
    "        x[\"frame\"], x[\"model_params\"][0], x[\"model_params\"][1], x[\"model_params\"][2]\n",
    "    ),\n",
    "    axis=1,\n",
    ")\n",
    "a1_filt_df[\"mean_intensity_num_denom_model\"] = (\n",
    "    a1_filt_df[\"mean_intensity_num_denom\"] / a1_filt_df[\"model\"]\n",
    ")"
   ]
  },
  {
   "cell_type": "markdown",
   "metadata": {},
   "source": [
    "### process o1 sample"
   ]
  },
  {
   "cell_type": "code",
   "execution_count": null,
   "metadata": {},
   "outputs": [],
   "source": [
    "o1_sample_name = \"o1g3\""
   ]
  },
  {
   "cell_type": "code",
   "execution_count": null,
   "metadata": {},
   "outputs": [],
   "source": [
    "o1_sample_C0 = img_as_float(\n",
    "    io.imread(f\"../Average_Proj_Stack/{o1_sample_name}_C0.tiff\")\n",
    ")\n",
    "o1_sample_C1 = img_as_float(\n",
    "    io.imread(f\"../Average_Proj_Stack/{o1_sample_name}_C1.tiff\")\n",
    ")"
   ]
  },
  {
   "cell_type": "code",
   "execution_count": null,
   "metadata": {},
   "outputs": [],
   "source": [
    "o1_sample_C0_lab = [\n",
    "    seg_and_bin.watershed_binary_img_to_labelled_img(\n",
    "        seg_and_bin.gaussian_threshold_remove_small_objects_and_holes(\n",
    "            o1_sample_C0[z, :, :],\n",
    "            filters.threshold_li,\n",
    "            gaussian_sigma=2,\n",
    "            tolerance=0.1,\n",
    "        ),\n",
    "        gaussian_sigma=2,\n",
    "    )\n",
    "    for z in range(o1_sample_C0.shape[0])\n",
    "]"
   ]
  },
  {
   "cell_type": "code",
   "execution_count": null,
   "metadata": {},
   "outputs": [],
   "source": [
    "o1_feature_df = timeseries.stack_label_images_to_tidy_df(\n",
    "    o1_sample_C0_lab, o1_sample_C1, o1_sample_C0\n",
    ")"
   ]
  },
  {
   "cell_type": "code",
   "execution_count": null,
   "metadata": {},
   "outputs": [],
   "source": [
    "o1_linked_df = trackpy.link_df(o1_feature_df, 10)"
   ]
  },
  {
   "cell_type": "code",
   "execution_count": null,
   "metadata": {},
   "outputs": [],
   "source": [
    "o1_filt_df = timeseries.keep_particles_through_stack(o1_linked_df)"
   ]
  },
  {
   "cell_type": "code",
   "execution_count": null,
   "metadata": {},
   "outputs": [],
   "source": [
    "def model_func(f, a, k, b):\n",
    "    return a * np.exp(-k * f) + b"
   ]
  },
  {
   "cell_type": "code",
   "execution_count": null,
   "metadata": {},
   "outputs": [],
   "source": [
    "o1_filt_df = pd.merge(\n",
    "    o1_filt_df,\n",
    "    (\n",
    "        o1_filt_df.query(\"frame > 0 & frame < 5 | frame > 25\")\n",
    "        .groupby(\"particle\")\n",
    "        .apply(\n",
    "            lambda x: curve_fit(\n",
    "                model_func, x[\"frame\"], x[\"mean_intensity_num_denom\"], maxfev=10000\n",
    "            )[0]\n",
    "        )\n",
    "    ).reset_index(name=\"model_params\"),\n",
    "    on=\"particle\",\n",
    ")"
   ]
  },
  {
   "cell_type": "code",
   "execution_count": null,
   "metadata": {},
   "outputs": [],
   "source": [
    "o1_filt_df[\"model\"] = o1_filt_df.apply(\n",
    "    lambda x: model_func(\n",
    "        x[\"frame\"], x[\"model_params\"][0], x[\"model_params\"][1], x[\"model_params\"][2]\n",
    "    ),\n",
    "    axis=1,\n",
    ")\n",
    "o1_filt_df[\"mean_intensity_num_denom_model\"] = (\n",
    "    o1_filt_df[\"mean_intensity_num_denom\"] / o1_filt_df[\"model\"]\n",
    ")"
   ]
  },
  {
   "cell_type": "markdown",
   "metadata": {},
   "source": [
    "### combine a1 and o1 filt_dfs"
   ]
  },
  {
   "cell_type": "code",
   "execution_count": null,
   "metadata": {},
   "outputs": [],
   "source": [
    "a1_filt_df[\"particle\"] = a1_filt_df[\"particle\"].astype(str)\n",
    "a1_filt_df[\"particle\"] = \"a1_\" + a1_filt_df[\"particle\"]\n",
    "\n",
    "o1_filt_df[\"particle\"] = o1_filt_df[\"particle\"].astype(str)\n",
    "o1_filt_df[\"particle\"] = \"o1_\" + o1_filt_df[\"particle\"]"
   ]
  },
  {
   "cell_type": "code",
   "execution_count": null,
   "metadata": {},
   "outputs": [],
   "source": [
    "a1_filt_df[\"age\"] = \"young\"\n",
    "o1_filt_df[\"age\"] = \"old\""
   ]
  },
  {
   "cell_type": "code",
   "execution_count": null,
   "metadata": {},
   "outputs": [],
   "source": [
    "a1o1_filt = pd.concat([a1_filt_df, o1_filt_df])"
   ]
  },
  {
   "cell_type": "code",
   "execution_count": null,
   "metadata": {},
   "outputs": [],
   "source": [
    "a1o1_filt[\"frame\"] = a1o1_filt[\"frame\"] - 1\n",
    "a1o1_filt = a1o1_filt.query(\"frame > -1\")"
   ]
  },
  {
   "cell_type": "code",
   "execution_count": null,
   "metadata": {},
   "outputs": [],
   "source": [
    "sns.set(\n",
    "    context=\"notebook\",\n",
    "    style=\"ticks\",\n",
    "    palette=\"deep\",\n",
    "    font=\"arial\",\n",
    "    font_scale=1,\n",
    "    color_codes=True,\n",
    "    rc=None,\n",
    ")\n",
    "\n",
    "ax = sns.lineplot(\n",
    "    x=\"frame\",\n",
    "    y=\"mean_intensity_num_denom_model\",\n",
    "    data=a1o1_filt,\n",
    "    hue=\"age\",\n",
    "    style=\"age\",\n",
    "    markers=True,\n",
    "    palette=[\"#414a4c\", \"#F57171\"],\n",
    ")\n",
    "\n",
    "plt.rcParams[\"pdf.fonttype\"] = 42\n",
    "plt.rcParams[\"ps.fonttype\"] = 42\n",
    "\n",
    "ax.tick_params(axis=\"both\", which=\"major\", pad=1)\n",
    "plt.xticks(fontsize=12)\n",
    "plt.yticks(fontsize=12)\n",
    "plt.setp(ax.spines.values(), linewidth=1)\n",
    "sns.despine()\n",
    "\n",
    "plt.savefig(\n",
    "    f\"young_old_glucose_FRET_{a1_sample_name}_{o1_sample_name}.pdf\",\n",
    "    transparent=True,\n",
    "    bbox_inches=\"tight\",\n",
    ")\n",
    "\n",
    "sns.reset_orig()"
   ]
  },
  {
   "cell_type": "code",
   "execution_count": null,
   "metadata": {},
   "outputs": [],
   "source": []
  },
  {
   "cell_type": "code",
   "execution_count": null,
   "metadata": {},
   "outputs": [],
   "source": []
  },
  {
   "cell_type": "code",
   "execution_count": null,
   "metadata": {},
   "outputs": [],
   "source": []
  }
 ],
 "metadata": {
  "kernelspec": {
   "display_name": "Python 3",
   "language": "python",
   "name": "python3"
  },
  "language_info": {
   "codemirror_mode": {
    "name": "ipython",
    "version": 3
   },
   "file_extension": ".py",
   "mimetype": "text/x-python",
   "name": "python",
   "nbconvert_exporter": "python",
   "pygments_lexer": "ipython3",
   "version": "3.7.8"
  }
 },
 "nbformat": 4,
 "nbformat_minor": 4
}
