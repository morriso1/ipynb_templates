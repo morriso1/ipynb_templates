{
 "cells": [
  {
   "cell_type": "code",
   "execution_count": null,
   "metadata": {},
   "outputs": [],
   "source": [
    "from analysing_imaging_data import analysing_imaging_data as aid\n",
    "from custom_plotting import custom_plotting as cp\n",
    "from custom_stats import custom_stats\n",
    "\n",
    "import pandas as pd\n",
    "from scipy import stats\n",
    "import scikit_posthocs as sp\n",
    "from statsmodels import formula\n",
    "from statsmodels import api\n",
    "import os\n",
    "\n",
    "\n",
    "%load_ext autoreload\n",
    "%autoreload 2"
   ]
  },
  {
   "cell_type": "code",
   "execution_count": null,
   "metadata": {},
   "outputs": [],
   "source": [
    "tidy_df_num = aid.read_csv_folder_into_tidy_df(\"./Output_C0/[a-z]*.csv\")\n",
    "tidy_df_denom = aid.read_csv_folder_into_tidy_df(\"./Output_C1/[a-z]*.csv\")\n",
    "\n",
    "tidy_df_num_div_denom = (\n",
    "    tidy_df_num.set_index([\"sample_gut_id\", \"sample_id\", \"gut_id\"])\n",
    "    .div(tidy_df_denom.set_index([\"sample_gut_id\", \"sample_id\", \"gut_id\"]))\n",
    "    .reset_index()\n",
    ")"
   ]
  },
  {
   "cell_type": "code",
   "execution_count": null,
   "metadata": {},
   "outputs": [],
   "source": [
    "my_pal = cp.define_pallette_tidy(tidy_df_num_div_denom[\"sample_id\"])"
   ]
  },
  {
   "cell_type": "code",
   "execution_count": null,
   "metadata": {},
   "outputs": [],
   "source": [
    "cp.tidy_create_strip_box_plot(\n",
    "    ExpName=aid.exp_analysis_name(), \n",
    "    x_figSize=cp.determine_fig_width_from_palette(my_pal),\n",
    "    y_axis_limit=None,\n",
    "    save_fig=False,\n",
    "    data=tidy_df_num_div_denom,\n",
    "    y_label=cp.identify_y_axis_label(aid.exp_analysis_name()),\n",
    "    x=\"sample_id\",\n",
    "    y=\"Mean\",\n",
    "    palette=my_pal,\n",
    ")"
   ]
  },
  {
   "cell_type": "code",
   "execution_count": null,
   "metadata": {},
   "outputs": [],
   "source": [
    "custom_stats.kruskal_scipy_stats_tidy_df_wrapper(\n",
    "    tidy_df=tidy_df_num_div_denom, indep_var=\"sample_id\", dep_var=\"Mean\"\n",
    ")"
   ]
  },
  {
   "cell_type": "code",
   "execution_count": null,
   "metadata": {},
   "outputs": [],
   "source": [
    "sp.posthoc_dunn(\n",
    "    tidy_df_num_div_denom, val_col=\"Mean\", group_col=\"sample_id\", p_adjust=\"bonferroni\"\n",
    ")[0:1]"
   ]
  },
  {
   "cell_type": "code",
   "execution_count": null,
   "metadata": {},
   "outputs": [],
   "source": [
    "tidy_df_num_div_denom_group = aid.grouped_tidy_data_summary_stats(\n",
    "    tidy_df=tidy_df_num_div_denom,\n",
    "    group_col=\"sample_gut_id\",\n",
    "    agg_funcs=[\"mean\", \"median\"],\n",
    "    categories=tidy_df_num_div_denom[\"sample_id\"].cat.categories,\n",
    ")"
   ]
  },
  {
   "cell_type": "code",
   "execution_count": null,
   "metadata": {},
   "outputs": [],
   "source": [
    "stat_type = \"mean\"\n",
    "\n",
    "cp.tidy_create_swarm_box_plot(\n",
    "    ExpName=aid.exp_analysis_name() + f\"_{stat_type}\",\n",
    "    save_fig=False,\n",
    "    data=tidy_df_num_div_denom_group.query(f\"summary_stat == '{stat_type}'\"),\n",
    "\n",
    "    y_label=cp.identify_y_axis_label(aid.exp_analysis_name()),\n",
    "    x_figSize=cp.determine_fig_width_from_palette(my_pal),\n",
    "    x=\"sample_id\",\n",
    "    y=\"Mean\",\n",
    "    palette=my_pal,\n",
    ")\n",
    "\n",
    "sp.posthoc_ttest(\n",
    "    tidy_df_num_div_denom_group.query(f\"summary_stat == '{stat_type}'\"),\n",
    "    val_col=\"Mean\",\n",
    "    group_col=\"sample_id\",\n",
    "    pool_sd=True,\n",
    "    p_adjust=\"holm-sidak\",\n",
    ")"
   ]
  },
  {
   "cell_type": "code",
   "execution_count": null,
   "metadata": {},
   "outputs": [],
   "source": [
    "stat_type = \"median\"\n",
    "\n",
    "cp.tidy_create_swarm_box_plot(\n",
    "    ExpName=aid.exp_analysis_name() + f\"_{stat_type}\",\n",
    "    save_fig=False,\n",
    "    data=tidy_df_num_div_denom_group.query(f\"summary_stat == '{stat_type}'\"),\n",
    "    y_label=cp.identify_y_axis_label(aid.exp_analysis_name()),\n",
    "    x_figSize=cp.determine_fig_width_from_palette(my_pal),\n",
    "    x=\"sample_id\",\n",
    "    y=\"Mean\",\n",
    "    palette=my_pal,\n",
    ")\n",
    "\n",
    "sp.posthoc_ttest(\n",
    "    tidy_df_num_div_denom_group.query(f\"summary_stat == '{stat_type}'\"),\n",
    "    val_col=\"Mean\",\n",
    "    group_col=\"sample_id\",\n",
    "    pool_sd=True,\n",
    "    p_adjust=\"holm-sidak\",\n",
    ")"
   ]
  },
  {
   "cell_type": "code",
   "execution_count": null,
   "metadata": {},
   "outputs": [],
   "source": [
    "tidy_df_num_div_denom.to_csv(f\"{aid.exp_analysis_name()}_tidy.csv\")\n",
    "tidy_df_num_div_denom_group.to_csv(f\"{aid.exp_analysis_name()}_per_gut_tidy.csv\")"
   ]
  },
  {
   "cell_type": "code",
   "execution_count": null,
   "metadata": {},
   "outputs": [],
   "source": [
    "if os.path.isfile(\"Tidy_Image_Analysis_Template.ipynb\"):\n",
    "    os.rename(\n",
    "        \"Tidy_Image_Analysis_Template.ipynb\",\n",
    "        f\"{aid.exp_analysis_name()}_tidy.ipynb\",\n",
    "    )"
   ]
  },
  {
   "cell_type": "code",
   "execution_count": null,
   "metadata": {},
   "outputs": [],
   "source": []
  }
 ],
 "metadata": {
  "kernelspec": {
   "display_name": "Python 3",
   "language": "python",
   "name": "python3"
  },
  "language_info": {
   "codemirror_mode": {
    "name": "ipython",
    "version": 3
   },
   "file_extension": ".py",
   "mimetype": "text/x-python",
   "name": "python",
   "nbconvert_exporter": "python",
   "pygments_lexer": "ipython3",
   "version": "3.7.8"
  }
 },
 "nbformat": 4,
 "nbformat_minor": 4
}
