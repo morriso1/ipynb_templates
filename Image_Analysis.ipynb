{
 "cells": [
  {
   "cell_type": "code",
   "execution_count": null,
   "metadata": {},
   "outputs": [],
   "source": [
    "from analysing_imaging_data import analysing_imaging_data as aid"
   ]
  },
  {
   "cell_type": "code",
   "execution_count": null,
   "metadata": {},
   "outputs": [],
   "source": [
    "ExpAnalysisName, DF, DF_mean, DF_median, Divided_DF = aid.analyse_imagej_CSVs(\n",
    "    Num_Dir=\"Output_C0\", Denom_Dir=\"Output_C1\"\n",
    ")"
   ]
  },
  {
   "cell_type": "code",
   "execution_count": null,
   "metadata": {},
   "outputs": [],
   "source": [
    "Prism_Output = aid.df_to_pzfx(DF, DF_mean, DF_median)"
   ]
  },
  {
   "cell_type": "code",
   "execution_count": null,
   "metadata": {},
   "outputs": [],
   "source": [
    "aid.write_pzfx(Prism_Output=Prism_Output, ExpAnalysisName=ExpAnalysisName)"
   ]
  },
  {
   "cell_type": "code",
   "execution_count": null,
   "metadata": {},
   "outputs": [],
   "source": [
    "DF.to_csv(ExpAnalysisName + \".csv\")\n",
    "DF_mean.to_csv(ExpAnalysisName + \"_mean.csv\")\n",
    "DF_median.to_csv(ExpAnalysisName + \"_median.csv\")"
   ]
  },
  {
   "cell_type": "code",
   "execution_count": 1,
   "metadata": {},
   "outputs": [],
   "source": [
    "import custom_plotting_v1"
   ]
  },
  {
   "cell_type": "code",
   "execution_count": null,
   "metadata": {},
   "outputs": [],
   "source": [
    "custom_plotting_v1.create_strip_or_swarm_boxplot(\n",
    "    DF,\n",
    "    ExpName=ExpAnalysisName,\n",
    "    x_figSize=custom_plotting_v1.determine_fig_width(DF),\n",
    "    y_label=custom_plotting_v1.identify_y_axis_label(ExpAnalysisName),\n",
    ")"
   ]
  },
  {
   "cell_type": "code",
   "execution_count": null,
   "metadata": {},
   "outputs": [],
   "source": [
    "custom_plotting_v1.create_strip_or_swarm_boxplot(\n",
    "    DF_mean,\n",
    "    ExpName=ExpAnalysisName + \"_mean\",\n",
    "    x_figSize=custom_plotting_v1.determine_fig_width(DF_mean),\n",
    "    y_label=custom_plotting_v1.identify_y_axis_label(ExpAnalysisName),\n",
    ")"
   ]
  },
  {
   "cell_type": "code",
   "execution_count": null,
   "metadata": {},
   "outputs": [],
   "source": [
    "custom_plotting_v1.create_strip_or_swarm_boxplot(\n",
    "    DF_median,\n",
    "    ExpName=ExpAnalysisName + \"_median\",\n",
    "    x_figSize=custom_plotting_v1.determine_fig_width(DF_median),\n",
    "    y_label=custom_plotting_v1.identify_y_axis_label(ExpAnalysisName),\n",
    ")"
   ]
  },
  {
   "cell_type": "code",
   "execution_count": null,
   "metadata": {},
   "outputs": [],
   "source": [
    "import os"
   ]
  },
  {
   "cell_type": "code",
   "execution_count": null,
   "metadata": {},
   "outputs": [],
   "source": [
    "if os.path.isfile(\"Image_Analysis.ipynb\"):\n",
    "    os.rename(\"Image_Analysis.ipynb\", f\"{ExpAnalysisName}.ipynb\")"
   ]
  },
  {
   "cell_type": "code",
   "execution_count": null,
   "metadata": {},
   "outputs": [],
   "source": []
  },
  {
   "cell_type": "code",
   "execution_count": null,
   "metadata": {},
   "outputs": [],
   "source": []
  }
 ],
 "metadata": {
  "kernelspec": {
   "display_name": "Python 3",
   "language": "python",
   "name": "python3"
  },
  "language_info": {
   "codemirror_mode": {
    "name": "ipython",
    "version": 3
   },
   "file_extension": ".py",
   "mimetype": "text/x-python",
   "name": "python",
   "nbconvert_exporter": "python",
   "pygments_lexer": "ipython3",
   "version": "3.7.8"
  }
 },
 "nbformat": 4,
 "nbformat_minor": 4
}
