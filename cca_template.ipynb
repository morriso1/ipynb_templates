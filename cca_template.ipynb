{
 "cells": [
  {
   "cell_type": "code",
   "execution_count": null,
   "metadata": {},
   "outputs": [],
   "source": [
    "import cell_counting_analysis as cca\n",
    "import analysing_imaging_data as aid\n",
    "import seaborn as sns\n",
    "%matplotlib inline"
   ]
  },
  {
   "cell_type": "code",
   "execution_count": null,
   "metadata": {},
   "outputs": [],
   "source": [
    "Dict_DFs = cca.marcm_save_CSVs_RGB_images_overlapping_regions(\n",
    "    Bin_C0_Dir=\"Binaries_C0\",\n",
    "    Bin_C1_Dir=\"Binaries_C1\",\n",
    "    Bin_C2_Dir=\"Binaries_C2\",\n",
    "    C2_overlap_threshold=0.4,\n",
    "    C1_overlap_threshold=0.8,\n",
    "    pixel_size=0.4,\n",
    "    csv_save_dir=\"CSVs_C0_in_C1C2\",\n",
    "    RGB_save_dir=\"RGB_C0_overlapping_regions\",\n",
    ")"
   ]
  },
  {
   "cell_type": "code",
   "execution_count": null,
   "metadata": {},
   "outputs": [],
   "source": [
    "Output_DF, Percentage_DF = cca.combine_marcm_dict_DFs(\n",
    "    Dict_DFs, analyse_method=cca.analyse_marcm_DFs_alt, EC_min_area=40, total_col=\"Total\"\n",
    ")"
   ]
  },
  {
   "cell_type": "code",
   "execution_count": null,
   "metadata": {},
   "outputs": [],
   "source": [
    "Output_DF[\"Sample_in_or_out_clone\"] = Output_DF[[\"label\"]].apply(\n",
    "    cca.define_sample_in_or_out_clone, axis=1\n",
    ")\n",
    "Percentage_DF[\"Sample_in_or_out_clone\"] = Percentage_DF[[\"label\"]].apply(\n",
    "    cca.define_sample_in_or_out_clone, axis=1\n",
    ")"
   ]
  },
  {
   "cell_type": "code",
   "execution_count": null,
   "metadata": {},
   "outputs": [],
   "source": [
    "Num_mean, Num_sem = cca.sorted_DFs_mean_sem(Output_DF)"
   ]
  },
  {
   "cell_type": "code",
   "execution_count": null,
   "metadata": {},
   "outputs": [],
   "source": [
    "cca.create_stack_bar_plot(\n",
    "    Num_mean.loc[Num_mean.index.str.contains('inside'), :],\n",
    "    DF_error_bar=Num_sem.loc[Num_sem.index.str.contains('inside'), :],\n",
    "    Exp_Name=aid.exp_analysis_name(),\n",
    "    File_Name=None,\n",
    "    Plot_Name=\"Number\",\n",
    "    x_figSize=None,\n",
    "    y_figSize=2.5,\n",
    "    y_label=\"Mean cell number inside clone\",\n",
    "    y_axis_start=0,\n",
    "    y_axis_limit=None,\n",
    "    color_pal=sns.color_palette(palette=\"Blues_r\"),\n",
    "    bar_width=0.8,\n",
    ")"
   ]
  },
  {
   "cell_type": "code",
   "execution_count": null,
   "metadata": {},
   "outputs": [],
   "source": [
    "Perc_mean,Perc_sem = cca.sorted_DFs_mean_sem(Percentage_DF)"
   ]
  },
  {
   "cell_type": "code",
   "execution_count": null,
   "metadata": {},
   "outputs": [],
   "source": [
    "cca.create_stack_bar_plot(\n",
    "    Perc_mean,\n",
    "    DF_error_bar=Perc_sem,\n",
    "    Exp_Name=aid.exp_analysis_name(),\n",
    "    File_Name=None,\n",
    "    Plot_Name=\"Percentage\",\n",
    "    x_figSize=None,\n",
    "    y_figSize=2.5,\n",
    "    y_label=\"Mean cell number inside clone\",\n",
    "    y_axis_start=0,\n",
    "    y_axis_limit=None,\n",
    "    color_pal=sns.color_palette(palette=\"Blues_r\"),\n",
    "    bar_width=0.8,\n",
    ")"
   ]
  },
  {
   "cell_type": "code",
   "execution_count": null,
   "metadata": {},
   "outputs": [],
   "source": []
  }
 ],
 "metadata": {
  "kernelspec": {
   "display_name": "Python 3",
   "language": "python",
   "name": "python3"
  },
  "language_info": {
   "codemirror_mode": {
    "name": "ipython",
    "version": 3
   },
   "file_extension": ".py",
   "mimetype": "text/x-python",
   "name": "python",
   "nbconvert_exporter": "python",
   "pygments_lexer": "ipython3",
   "version": "3.7.6"
  }
 },
 "nbformat": 4,
 "nbformat_minor": 4
}
