{
 "cells": [
  {
   "cell_type": "code",
   "execution_count": null,
   "metadata": {},
   "outputs": [],
   "source": [
    "from analysing_imaging_data import analysing_imaging_data as aid\n",
    "from custom_plotting import custom_plotting as cp\n",
    "from custom_stats import custom_stats\n",
    "from cell_counting_analysis import cell_counting_analysis as cca\n",
    "\n",
    "import pandas as pd\n",
    "from scipy import stats\n",
    "import scikit_posthocs as sp\n",
    "from statsmodels import formula\n",
    "from statsmodels import api\n",
    "import os\n",
    "\n",
    "\n",
    "%load_ext autoreload\n",
    "%autoreload 2"
   ]
  },
  {
   "cell_type": "code",
   "execution_count": null,
   "metadata": {},
   "outputs": [],
   "source": [
    "C0_imgs = cca.create_img_dict_from_folder(load_pattern=\"../Default_Watershed/C0/*.tiff\")\n",
    "C1_imgs = cca.create_img_dict_from_folder(load_pattern=\"../Default_Watershed/C1/*.tiff\")\n",
    "\n",
    "C1_lab_imgs = cca.create_labelled_img_dict_from_folder(load_pattern=\"./C1_label_imgs/*.tiff\")"
   ]
  },
  {
   "cell_type": "code",
   "execution_count": null,
   "metadata": {},
   "outputs": [],
   "source": [
    "tidy_df = cca.num_div_denom_measure_region_props_to_tidy_df(\n",
    "    num_img_dict=C1_imgs,\n",
    "    denom_img_dict=C0_imgs,\n",
    "    label_imgs=C1_lab_imgs,\n",
    ")"
   ]
  },
  {
   "cell_type": "code",
   "execution_count": null,
   "metadata": {},
   "outputs": [],
   "source": [
    "my_pal = cp.define_pallette_tidy(tidy_df[\"sample_id\"])"
   ]
  },
  {
   "cell_type": "code",
   "execution_count": null,
   "metadata": {},
   "outputs": [],
   "source": [
    "cp.tidy_create_strip_box_plot(\n",
    "    ExpName= aid.exp_analysis_name(),\n",
    "    x_figSize=cp.determine_fig_width_from_palette(my_pal),\n",
    "    y_axis_limit=8,\n",
    "    save_fig=False,\n",
    "    data=tidy_df,\n",
    "    y_label=cp.identify_y_axis_label(aid.exp_analysis_name()),\n",
    "    x=\"sample_id\",\n",
    "    y=\"mean_intensity_num_div_denom\",\n",
    "    palette=my_pal,\n",
    ")"
   ]
  },
  {
   "cell_type": "code",
   "execution_count": null,
   "metadata": {},
   "outputs": [],
   "source": [
    "custom_stats.kruskal_scipy_stats_tidy_df_wrapper(\n",
    "    tidy_df=tidy_df, indep_var=\"sample_id\", dep_var=\"mean_intensity_num_div_denom\"\n",
    ")"
   ]
  },
  {
   "cell_type": "code",
   "execution_count": null,
   "metadata": {},
   "outputs": [],
   "source": [
    "sp.posthoc_dunn(\n",
    "    tidy_df, val_col=\"mean_intensity_num_div_denom\", group_col=\"sample_id\", p_adjust=\"bonferroni\"\n",
    ")"
   ]
  },
  {
   "cell_type": "code",
   "execution_count": null,
   "metadata": {},
   "outputs": [],
   "source": [
    "tidy_df_group = aid.grouped_tidy_data_summary_stats(\n",
    "    tidy_df=tidy_df,\n",
    "    group_col=\"image_key\",\n",
    "    agg_funcs=[\"mean\", \"median\"],\n",
    "    categories=tidy_df[\"sample_id\"].cat.categories,\n",
    ")"
   ]
  },
  {
   "cell_type": "code",
   "execution_count": null,
   "metadata": {},
   "outputs": [],
   "source": [
    "stat_type = \"mean\"\n",
    "\n",
    "cp.tidy_create_swarm_box_plot(\n",
    "    ExpName=aid.exp_analysis_name() + f\"_{stat_type}\",\n",
    "    save_fig=True,\n",
    "    data=tidy_df_group.query(f\"summary_stat == '{stat_type}'\"),\n",
    "    y_label=cp.identify_y_axis_label(aid.exp_analysis_name()),\n",
    "    x_figSize=cp.determine_fig_width_from_palette(my_pal),\n",
    "    x=\"sample_id\",\n",
    "    y=\"mean_intensity_num_div_denom\",\n",
    "    palette=my_pal,\n",
    ")\n",
    "\n",
    "sp.posthoc_ttest(\n",
    "    tidy_df_group.query(f\"summary_stat == '{stat_type}'\"),\n",
    "    val_col=\"mean_intensity_num_div_denom\",\n",
    "    group_col=\"sample_id\",\n",
    "    pool_sd=True,\n",
    "    p_adjust=\"holm-sidak\",\n",
    ")"
   ]
  },
  {
   "cell_type": "code",
   "execution_count": null,
   "metadata": {},
   "outputs": [],
   "source": [
    "stat_type = \"median\"\n",
    "\n",
    "cp.tidy_create_swarm_box_plot(\n",
    "    ExpName=aid.exp_analysis_name() + f\"_{stat_type}\",\n",
    "    save_fig=True,\n",
    "    data=tidy_df_group.query(f\"summary_stat == '{stat_type}'\"),\n",
    "    y_label=cp.identify_y_axis_label(aid.exp_analysis_name()),\n",
    "    x_figSize=cp.determine_fig_width_from_palette(my_pal),\n",
    "    x=\"sample_id\",\n",
    "    y=\"mean_intensity_num_div_denom\",\n",
    "    palette=my_pal,\n",
    ")\n",
    "\n",
    "sp.posthoc_ttest(\n",
    "    tidy_df_group.query(f\"summary_stat == '{stat_type}'\"),\n",
    "    val_col=\"mean_intensity_num_div_denom\",\n",
    "    group_col=\"sample_id\",\n",
    "    pool_sd=True,\n",
    "    p_adjust=\"holm-sidak\",\n",
    ")"
   ]
  },
  {
   "cell_type": "code",
   "execution_count": null,
   "metadata": {},
   "outputs": [],
   "source": [
    "tidy_df.to_csv(f\"{aid.exp_analysis_name()}_tidy.csv\")\n",
    "tidy_df_group.to_csv(f\"{aid.exp_analysis_name()}_per_gut_tidy.csv\")"
   ]
  },
  {
   "cell_type": "code",
   "execution_count": null,
   "metadata": {},
   "outputs": [],
   "source": [
    "if os.path.isfile(\"Tidy_Image_Analysis_Template_csv.ipynb\"):\n",
    "    os.rename(\n",
    "        \"Tidy_Image_Analysis_Template_csv.ipynb\",\n",
    "        f\"{aid.exp_analysis_name()}_csv_tidy.ipynb\",\n",
    "    )"
   ]
  },
  {
   "cell_type": "code",
   "execution_count": null,
   "metadata": {},
   "outputs": [],
   "source": []
  }
 ],
 "metadata": {
  "kernelspec": {
   "display_name": "Python 3",
   "language": "python",
   "name": "python3"
  },
  "language_info": {
   "codemirror_mode": {
    "name": "ipython",
    "version": 3
   },
   "file_extension": ".py",
   "mimetype": "text/x-python",
   "name": "python",
   "nbconvert_exporter": "python",
   "pygments_lexer": "ipython3",
   "version": "3.7.8"
  }
 },
 "nbformat": 4,
 "nbformat_minor": 4
}
