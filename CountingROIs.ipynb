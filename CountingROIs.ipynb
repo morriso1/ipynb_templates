{
 "cells": [
  {
   "cell_type": "code",
   "execution_count": null,
   "metadata": {},
   "outputs": [],
   "source": [
    "import analysing_imaging_data as aid\n",
    "import custom_plotting_v1\n",
    "import pandas as pd"
   ]
  },
  {
   "cell_type": "code",
   "execution_count": null,
   "metadata": {},
   "outputs": [],
   "source": [
    "DFs_Dict = aid.compileCSVs_sortbycondition_apply_method()"
   ]
  },
  {
   "cell_type": "code",
   "execution_count": null,
   "metadata": {},
   "outputs": [],
   "source": [
    "PercentageC2C0 = DFs_Dict.get(\"Output_C2\") / DFs_Dict.get(\"Output_C0\") * 100\n",
    "ExpAnalysisName = aid.exp_analysis_name()"
   ]
  },
  {
   "cell_type": "code",
   "execution_count": null,
   "metadata": {},
   "outputs": [],
   "source": [
    "custom_plotting_v1.create_strip_or_swarm_boxplot(\n",
    "    PercentageC2C0,\n",
    "    x_figSize=1.5,\n",
    "    y_figSize=2.5,\n",
    "    ExpName=ExpAnalysisName,\n",
    "    ScaleSize=1,\n",
    ")"
   ]
  },
  {
   "cell_type": "code",
   "execution_count": null,
   "metadata": {},
   "outputs": [],
   "source": [
    "Prism_Output = aid.df_to_pzfx(DFs_Dict.get(\"Output_C2\"), DFs_Dict.get(\"Output_C0\"), PercentageC2C0)"
   ]
  },
  {
   "cell_type": "code",
   "execution_count": null,
   "metadata": {},
   "outputs": [],
   "source": [
    "aid.write_pzfx(Prism_Output, ExpAnalysisName=ExpAnalysisName)"
   ]
  },
  {
   "cell_type": "code",
   "execution_count": null,
   "metadata": {},
   "outputs": [],
   "source": [
    "import os\n",
    "if os.path.isfile(\"CountingROIs.ipynb\"):\n",
    "    os.rename(\"CountingROIs.ipynb\", f\"{ExpAnalysisName}.ipynb\")"
   ]
  },
  {
   "cell_type": "code",
   "execution_count": null,
   "metadata": {},
   "outputs": [],
   "source": []
  }
 ],
 "metadata": {
  "kernelspec": {
   "display_name": "Python 3",
   "language": "python",
   "name": "python3"
  },
  "language_info": {
   "codemirror_mode": {
    "name": "ipython",
    "version": 3
   },
   "file_extension": ".py",
   "mimetype": "text/x-python",
   "name": "python",
   "nbconvert_exporter": "python",
   "pygments_lexer": "ipython3",
   "version": "3.7.5"
  }
 },
 "nbformat": 4,
 "nbformat_minor": 4
}
